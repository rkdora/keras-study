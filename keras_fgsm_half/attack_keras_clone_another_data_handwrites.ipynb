{
 "cells": [
  {
   "cell_type": "code",
   "execution_count": 1,
   "metadata": {},
   "outputs": [
    {
     "name": "stderr",
     "output_type": "stream",
     "text": [
      "Using TensorFlow backend.\n"
     ]
    }
   ],
   "source": [
    "import sys, os\n",
    "sys.path.append(os.pardir)\n",
    "\n",
    "import numpy as np\n",
    "import matplotlib.pyplot as plt\n",
    "%matplotlib inline\n",
    "\n",
    "from PIL import Image\n",
    "\n",
    "from fgsm.deep_convnet import DeepConvNet\n",
    "from common.functions import softmax\n",
    "\n",
    "import keras\n",
    "from keras.datasets import mnist\n",
    "from keras.models import model_from_json\n",
    "from keras.utils import np_utils\n",
    "from keras.optimizers import RMSprop"
   ]
  },
  {
   "cell_type": "code",
   "execution_count": 2,
   "metadata": {},
   "outputs": [],
   "source": [
    "### 画像データ読み込み、加工\n",
    "\n",
    "# 画像の入っているフォルダを指定し、中身のファイル名を取得\n",
    "filenames = sorted(os.listdir('../fgsm/handwrite_numbers'))\n",
    "\n",
    "# フォルダ内の全画像をデータ化\n",
    "img_test = np.empty((0, 784))\n",
    "for filename in filenames:\n",
    "    # 画像ファイルを取得、グレースケール（モノクロ）にしてサイズ変更\n",
    "    img = Image.open('../fgsm/handwrite_numbers/' + filename).convert('L')\n",
    "    resize_img = img.resize((784, 784))\n",
    "\n",
    "    img_data256 = np.array([])\n",
    "    for y in range(28):\n",
    "        for x in range(28):\n",
    "            # 1画素に縮小される範囲の明るさの二乗平均をとり、白黒反転\n",
    "            # crop()は、画像の一部の領域を切り抜くメソッド。切り出す領域を引数(left, upper, right, lower)（要は左上と右下の座標）で指定する。\n",
    "            crop = np.asarray(resize_img.crop((x * 28, y * 28, x * 28 + 28, y * 28 + 28)))\n",
    "            bright = 255 - crop.mean()**2 / 255\n",
    "            img_data256 = np.append(img_data256, bright)\n",
    "\n",
    "    img_data = img_data256 / 255\n",
    "\n",
    "    img_test = np.r_[img_test, img_data.reshape(1, -1)]\n",
    "\n",
    "# 画像データの正解を配列にしておく\n",
    "img_ans = []\n",
    "for filename in filenames:\n",
    "    img_ans += [int(filename[:1])]\n",
    "\n",
    "img_ans = np.array(img_ans)"
   ]
  },
  {
   "cell_type": "code",
   "execution_count": 3,
   "metadata": {},
   "outputs": [
    {
     "name": "stdout",
     "output_type": "stream",
     "text": [
      "img_test.shape (30, 784)\n",
      "img_ans.shape (30,)\n",
      "(30, 10)\n"
     ]
    }
   ],
   "source": [
    "print(\"img_test.shape\", img_test.shape)\n",
    "print(\"img_ans.shape\", img_ans.shape)\n",
    "img_ans_c = keras.utils.to_categorical(img_ans, 10)\n",
    "print(img_ans_c.shape)"
   ]
  },
  {
   "cell_type": "code",
   "execution_count": 4,
   "metadata": {},
   "outputs": [
    {
     "name": "stderr",
     "output_type": "stream",
     "text": [
      "WARNING: Logging before flag parsing goes to stderr.\n",
      "W1127 19:07:25.466614 140736894542784 deprecation_wrapper.py:119] From /Users/ryuto/anaconda3/lib/python3.7/site-packages/keras/backend/tensorflow_backend.py:517: The name tf.placeholder is deprecated. Please use tf.compat.v1.placeholder instead.\n",
      "\n",
      "W1127 19:07:25.492436 140736894542784 deprecation_wrapper.py:119] From /Users/ryuto/anaconda3/lib/python3.7/site-packages/keras/backend/tensorflow_backend.py:4138: The name tf.random_uniform is deprecated. Please use tf.random.uniform instead.\n",
      "\n",
      "W1127 19:07:25.519542 140736894542784 deprecation_wrapper.py:119] From /Users/ryuto/anaconda3/lib/python3.7/site-packages/keras/backend/tensorflow_backend.py:131: The name tf.get_default_graph is deprecated. Please use tf.compat.v1.get_default_graph instead.\n",
      "\n",
      "W1127 19:07:25.520454 140736894542784 deprecation_wrapper.py:119] From /Users/ryuto/anaconda3/lib/python3.7/site-packages/keras/backend/tensorflow_backend.py:133: The name tf.placeholder_with_default is deprecated. Please use tf.compat.v1.placeholder_with_default instead.\n",
      "\n",
      "W1127 19:07:25.548422 140736894542784 deprecation.py:506] From /Users/ryuto/anaconda3/lib/python3.7/site-packages/keras/backend/tensorflow_backend.py:3445: calling dropout (from tensorflow.python.ops.nn_ops) with keep_prob is deprecated and will be removed in a future version.\n",
      "Instructions for updating:\n",
      "Please use `rate` instead of `keep_prob`. Rate should be set to `rate = 1 - keep_prob`.\n",
      "W1127 19:07:25.727977 140736894542784 deprecation_wrapper.py:119] From /Users/ryuto/anaconda3/lib/python3.7/site-packages/keras/backend/tensorflow_backend.py:174: The name tf.get_default_session is deprecated. Please use tf.compat.v1.get_default_session instead.\n",
      "\n",
      "W1127 19:07:25.812569 140736894542784 deprecation_wrapper.py:119] From /Users/ryuto/anaconda3/lib/python3.7/site-packages/keras/optimizers.py:790: The name tf.train.Optimizer is deprecated. Please use tf.compat.v1.train.Optimizer instead.\n",
      "\n"
     ]
    },
    {
     "name": "stdout",
     "output_type": "stream",
     "text": [
      "_________________________________________________________________\n",
      "Layer (type)                 Output Shape              Param #   \n",
      "=================================================================\n",
      "dense_1 (Dense)              (None, 512)               401920    \n",
      "_________________________________________________________________\n",
      "dropout_1 (Dropout)          (None, 512)               0         \n",
      "_________________________________________________________________\n",
      "dense_2 (Dense)              (None, 512)               262656    \n",
      "_________________________________________________________________\n",
      "dropout_2 (Dropout)          (None, 512)               0         \n",
      "_________________________________________________________________\n",
      "dense_3 (Dense)              (None, 10)                5130      \n",
      "=================================================================\n",
      "Total params: 669,706\n",
      "Trainable params: 669,706\n",
      "Non-trainable params: 0\n",
      "_________________________________________________________________\n"
     ]
    }
   ],
   "source": [
    "# モデルを読み込む\n",
    "model = model_from_json(open('mnist_mlp_model_half.json').read())\n",
    "\n",
    "# 学習結果を読み込む\n",
    "model.load_weights('mnist_mlp_weights_half.h5')\n",
    "\n",
    "model.summary();\n",
    "\n",
    "model.compile(loss='categorical_crossentropy',\n",
    "              optimizer=RMSprop(),\n",
    "              metrics=['accuracy'])"
   ]
  },
  {
   "cell_type": "code",
   "execution_count": 5,
   "metadata": {
    "scrolled": false
   },
   "outputs": [
    {
     "name": "stdout",
     "output_type": "stream",
     "text": [
      "handwritesに対するkerasの正答率： 0.8666666746139526\n"
     ]
    }
   ],
   "source": [
    "score = model.evaluate(img_test, img_ans_c, verbose=0)\n",
    "# print('Test loss :', score[0])\n",
    "print('handwritesに対するkerasの正答率：', score[1])"
   ]
  },
  {
   "cell_type": "code",
   "execution_count": 6,
   "metadata": {
    "scrolled": true
   },
   "outputs": [
    {
     "name": "stdout",
     "output_type": "stream",
     "text": [
      "loaded Network Parameters!\n"
     ]
    }
   ],
   "source": [
    "network = DeepConvNet()\n",
    "\n",
    "network.load_params(\"keras_clone_params_half.pkl\")\n",
    "print(\"loaded Network Parameters!\")"
   ]
  },
  {
   "cell_type": "code",
   "execution_count": 7,
   "metadata": {},
   "outputs": [
    {
     "name": "stdout",
     "output_type": "stream",
     "text": [
      "(30, 1, 28, 28)\n"
     ]
    }
   ],
   "source": [
    "img_test28 = img_test.reshape(img_test.shape[0], 1, 28, 28)\n",
    "print(img_test28.shape)"
   ]
  },
  {
   "cell_type": "code",
   "execution_count": 8,
   "metadata": {},
   "outputs": [
    {
     "name": "stdout",
     "output_type": "stream",
     "text": [
      "handwritesに対するクローンの正答率： 1.0\n"
     ]
    }
   ],
   "source": [
    "test_acc = network.accuracy(img_test28, img_ans, batch_size=30)\n",
    "print(\"handwritesに対するクローンの正答率：\", test_acc)"
   ]
  },
  {
   "cell_type": "code",
   "execution_count": 9,
   "metadata": {},
   "outputs": [
    {
     "name": "stdout",
     "output_type": "stream",
     "text": [
      "判定結果\n",
      "観測： [0 0 0 1 1 1 2 2 2 3 3 3 4 4 4 5 5 5 6 6 6 7 7 7 8 8 8 9 9 9]\n",
      "予測： [0 0 0 1 1 1 2 2 2 3 3 3 4 4 4 5 5 5 6 6 6 7 7 7 8 8 8 9 9 9]\n",
      "正答率： 1.0\n"
     ]
    }
   ],
   "source": [
    "clone_pred = network.predict(img_test28)\n",
    "clone_pred_label = np.argmax(clone_pred, axis=1)\n",
    "clone_pred_score = list(map(lambda x:round(x, 2), np.max(softmax(clone_pred), axis=1)))\n",
    "\n",
    "# 結果の出力\n",
    "print(\"判定結果\")\n",
    "print(\"観測：\", img_ans)\n",
    "print(\"予測：\", clone_pred_label)\n",
    "# print(\"信頼度：\", clone_pred_score\n",
    "print(\"正答率：\", np.sum(clone_pred_label == img_ans)/(img_test.shape[0]))\n"
   ]
  },
  {
   "cell_type": "code",
   "execution_count": 10,
   "metadata": {},
   "outputs": [],
   "source": [
    "def generate_adv(x, label, network, eps=0.01):\n",
    "    d, g = network.gradient_for_fgsm(x.reshape(1, 1, 28, 28), np.array([label]))\n",
    "    d = d.reshape(28, 28)\n",
    "    p = eps * np.sign(d)\n",
    "    adv = (x + p).clip(min=0, max=1)\n",
    "    adv = adv.reshape(1, 1, 28, 28)\n",
    "    return adv"
   ]
  },
  {
   "cell_type": "code",
   "execution_count": 11,
   "metadata": {},
   "outputs": [],
   "source": [
    "def change_adv_list(x_list, t_list, network, eps):\n",
    "    adv_list = []\n",
    "    for x, t in zip(x_list, t_list):\n",
    "        adv = generate_adv(x, t, network, eps)\n",
    "        adv_list.append(adv.reshape(1, 28, 28))\n",
    "        \n",
    "    adv_list = np.array(adv_list)\n",
    "    return adv_list"
   ]
  },
  {
   "cell_type": "code",
   "execution_count": 24,
   "metadata": {},
   "outputs": [
    {
     "data": {
      "text/plain": [
       "(30, 1, 28, 28)"
      ]
     },
     "execution_count": 24,
     "metadata": {},
     "output_type": "execute_result"
    }
   ],
   "source": [
    "fgsm_test = change_adv_list(img_test28, img_ans, network, 0.2)\n",
    "fgsm_test.shape"
   ]
  },
  {
   "cell_type": "code",
   "execution_count": 25,
   "metadata": {},
   "outputs": [
    {
     "data": {
      "image/png": "[encoded data removed]",
      "text/plain": [
       "<Figure size 1440x1440 with 30 Axes>"
      ]
     },
     "metadata": {
      "needs_background": "light"
     },
     "output_type": "display_data"
    }
   ],
   "source": [
    "fig = plt.figure(figsize=(20, 20))\n",
    "fig.subplots_adjust(wspace=0.4, hspace=0.1)\n",
    "for i, f in enumerate(fgsm_test):\n",
    "    f = f.reshape(1, 1, 28, 28)\n",
    "    ax = fig.add_subplot(3, 10, i+1)\n",
    "    ax.imshow(f.reshape(28,28), 'gray')\n",
    "    pre = network.predict(f)\n",
    "    pre_label = np.argmax(pre)\n",
    "    pre_score = round(max(softmax(pre[0])), 2)\n",
    "    ax.set_title(f\"{pre_label} : {pre_score}\")\n",
    "    \n",
    "plt.show()"
   ]
  },
  {
   "cell_type": "code",
   "execution_count": 26,
   "metadata": {},
   "outputs": [
    {
     "name": "stdout",
     "output_type": "stream",
     "text": [
      "FGSMに対するクローンの正答率： 0.0\n"
     ]
    }
   ],
   "source": [
    "fgsm_clone_acc = network.accuracy(fgsm_test, img_ans, batch_size=32)\n",
    "print(\"FGSMに対するクローンの正答率：\", fgsm_clone_acc)"
   ]
  },
  {
   "cell_type": "code",
   "execution_count": 27,
   "metadata": {},
   "outputs": [
    {
     "name": "stdout",
     "output_type": "stream",
     "text": [
      "判定結果\n",
      "観測： [0 0 0 1 1 1 2 2 2 3 3 3 4 4 4 5 5 5 6 6 6 7 7 7 8 8 8 9 9 9]\n",
      "予測： [0 7 3 6 1 4 2 7 3 7 7 3 8 4 8 8 8 5 3 5 5 2 3 9 0 3 3 9 1 7]\n",
      "正答率： 0.23333333333333334\n"
     ]
    }
   ],
   "source": [
    "fgsm_clone_pred = network.predict(fgsm_test)\n",
    "fgsm_clone_pred_label = np.argmax(fgsm_clone_pred, axis=1)\n",
    "fgsm_clone_pred_score = list(map(lambda x:round(x, 2), np.max(softmax(fgsm_clone_pred), axis=1)))\n",
    "\n",
    "# 結果の出力\n",
    "print(\"判定結果\")\n",
    "print(\"観測：\", img_ans)\n",
    "print(\"予測：\", fgsm_clone_pred_label)\n",
    "# print(\"信頼度：\", fgsm_clone_pred_score\n",
    "print(\"正答率：\", np.sum(fgsm_clone_pred_label == img_ans)/(img_test.shape[0]))\n"
   ]
  },
  {
   "cell_type": "code",
   "execution_count": 28,
   "metadata": {},
   "outputs": [
    {
     "name": "stdout",
     "output_type": "stream",
     "text": [
      "FGSMに対するkerasの正答率： 0.2666666805744171\n"
     ]
    }
   ],
   "source": [
    "FGSM_test = fgsm_test.reshape(fgsm_test.shape[0], 784)\n",
    "fgsm_score = model.evaluate(FGSM_test, img_ans_c, verbose=0)\n",
    "# print('Test loss :', score[0])\n",
    "print('FGSMに対するkerasの正答率：', fgsm_score[1])"
   ]
  },
  {
   "cell_type": "code",
   "execution_count": 29,
   "metadata": {},
   "outputs": [
    {
     "data": {
      "image/png": "[encoded data removed]",
      "text/plain": [
       "<Figure size 432x288 with 1 Axes>"
      ]
     },
     "metadata": {
      "needs_background": "light"
     },
     "output_type": "display_data"
    }
   ],
   "source": [
    "plt.imshow(fgsm_test[0].reshape(28,28), 'gray')\n",
    "plt.show()"
   ]
  },
  {
   "cell_type": "code",
   "execution_count": null,
   "metadata": {},
   "outputs": [],
   "source": []
  },
  {
   "cell_type": "code",
   "execution_count": null,
   "metadata": {},
   "outputs": [],
   "source": []
  }
 ],
 "metadata": {
  "kernelspec": {
   "display_name": "Python 3",
   "language": "python",
   "name": "python3"
  },
  "language_info": {
   "codemirror_mode": {
    "name": "ipython",
    "version": 3
   },
   "file_extension": ".py",
   "mimetype": "text/x-python",
   "name": "python",
   "nbconvert_exporter": "python",
   "pygments_lexer": "ipython3",
   "version": "3.7.3"
  }
 },
 "nbformat": 4,
 "nbformat_minor": 2
}
