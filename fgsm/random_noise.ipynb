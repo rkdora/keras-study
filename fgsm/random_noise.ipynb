{
 "cells": [
  {
   "cell_type": "code",
   "execution_count": 1,
   "metadata": {},
   "outputs": [
    {
     "name": "stderr",
     "output_type": "stream",
     "text": [
      "Using TensorFlow backend.\n"
     ]
    }
   ],
   "source": [
    "import numpy as np\n",
    "import matplotlib.pyplot as plt\n",
    "from keras.datasets import mnist\n",
    "from deep_convnet import DeepConvNet\n",
    "%matplotlib inline\n",
    "\n",
    "from common.functions import softmax"
   ]
  },
  {
   "cell_type": "code",
   "execution_count": 2,
   "metadata": {},
   "outputs": [],
   "source": [
    "# データの読み込み\n",
    "(x_train, t_train), (x_test, t_test) = mnist.load_data()\n",
    "\n",
    "# 正規化\n",
    "x_train, x_test = x_train.astype(np.float32) / 255.0, x_test.astype(np.float32) / 255.0"
   ]
  },
  {
   "cell_type": "code",
   "execution_count": 3,
   "metadata": {},
   "outputs": [],
   "source": [
    "eps = 0.3"
   ]
  },
  {
   "cell_type": "code",
   "execution_count": 4,
   "metadata": {},
   "outputs": [
    {
     "data": {
      "text/plain": [
       "array([[-0.95331541,  1.01230524,  1.1942028 , -0.75243676, -1.36299895,\n",
       "        -2.07336421,  0.12753199, -1.7174897 , -0.27970097,  0.39187989,\n",
       "        -1.78663778, -1.13649224, -0.09822586, -1.18425289,  0.05769657,\n",
       "         0.06116674,  0.9082543 ,  0.2225309 ,  0.78051103, -0.31766085,\n",
       "         1.53977572,  1.32616824, -1.92616714,  0.28107303, -0.67978248,\n",
       "        -0.20957314, -0.06490005, -0.77518136],\n",
       "       [-0.18668005, -1.28111669,  0.79484533, -0.85784053,  0.38490337,\n",
       "         1.23766954,  0.05347593,  0.69445905, -0.99035794, -0.30914212,\n",
       "         1.0834587 , -1.06306558, -1.32972064,  0.36753505, -0.90551068,\n",
       "        -0.85398166, -1.11265683, -0.61135119, -0.10923478,  1.28462204,\n",
       "        -0.58197577, -0.17538457, -0.45840284,  0.23239454, -1.0793892 ,\n",
       "         0.0572737 ,  1.74804248,  0.91610717],\n",
       "       [ 0.60951986,  1.04402781,  0.88247584, -1.3172764 , -0.70558527,\n",
       "         0.01908447,  0.06807867, -0.49850408, -0.38932752,  1.41690713,\n",
       "        -0.47428701,  1.77119927, -0.21598441,  0.15812979,  0.02599944,\n",
       "         0.01877959,  1.08532265,  0.8462021 ,  0.45670582,  0.33742911,\n",
       "        -0.41948803, -0.99290854, -0.42505115,  0.64973992, -0.79657715,\n",
       "         0.2681623 , -1.2544757 , -0.78829757],\n",
       "       [-0.06393308, -1.89227593,  0.94282475, -2.21166353, -1.28928354,\n",
       "        -1.38376025, -0.35447451,  2.01844929, -1.6075366 ,  0.05591271,\n",
       "        -0.65133979,  0.29565878, -0.09606445,  0.11293951,  0.60808652,\n",
       "        -1.42412226, -0.64933606,  0.65967343, -0.26393328,  0.51737535,\n",
       "         0.62792671, -0.55358241, -0.64887902,  0.70562637, -2.58735557,\n",
       "         0.92929973, -1.53420798,  1.49073766],\n",
       "       [-0.95974279,  0.93511019, -0.29697699, -1.18967938, -1.12561226,\n",
       "         2.57795699, -0.78832815, -1.72445538, -0.65972728, -0.93597299,\n",
       "         0.7467643 , -0.0692969 , -0.43885424,  0.46674853,  0.23811863,\n",
       "        -0.18131408, -1.18347932, -1.59885761, -0.14235115,  0.89750328,\n",
       "        -0.70659783, -0.88016678,  1.25437532,  0.55750715,  0.46960458,\n",
       "        -0.19029276, -1.37389041,  0.01185353],\n",
       "       [-0.59707051,  0.25109075, -0.23216597, -1.01375919, -0.8227042 ,\n",
       "        -0.52136293,  0.59922951, -0.3783541 , -1.35304364, -0.48554647,\n",
       "         1.8687376 , -0.29410359, -1.34503202, -2.50204645,  1.7450683 ,\n",
       "        -0.93566335,  0.79860707,  0.2299538 ,  1.21517167,  0.56519097,\n",
       "        -0.42601623, -0.78526361,  0.04295337, -1.81638408,  0.10566783,\n",
       "        -0.56553346, -1.00475571,  0.62266303],\n",
       "       [-0.52142161,  0.62127875, -0.31356294,  0.37250639, -0.55210468,\n",
       "        -0.93162996,  1.69425992,  0.78781435, -0.15534492,  1.0630295 ,\n",
       "         1.07936333, -0.4841575 ,  0.34875059, -0.33217625, -0.43884409,\n",
       "        -1.01540111, -0.91017564,  0.27981746, -0.23942342, -0.94022377,\n",
       "        -0.28530029, -1.27329981,  0.25308537,  0.7745779 , -0.14368012,\n",
       "         1.60984159, -0.46106953, -1.47165828],\n",
       "       [ 1.23727073, -1.0948108 ,  0.62012692,  0.44285388, -0.38555983,\n",
       "         1.03037395,  0.10018215,  0.07260543,  0.63499681,  0.57864186,\n",
       "        -0.2538064 ,  0.5992531 , -0.01514457, -0.54522982, -0.02959632,\n",
       "         0.32385993,  0.59188503,  0.17426715, -0.51607251, -0.57459582,\n",
       "         0.35873399,  1.42182618,  0.38816155, -0.30138451,  0.68331986,\n",
       "        -0.2335056 ,  0.98459544, -1.73428287],\n",
       "       [-0.5889472 , -0.40581386,  1.65144404, -0.23038069, -0.30220602,\n",
       "        -1.48953274, -0.05579514,  0.77366046,  0.70894171, -0.93725569,\n",
       "        -0.76172399,  0.20508855,  0.36912191, -0.49270341,  0.09125358,\n",
       "         0.18427256, -1.037394  ,  0.07285946,  1.12815257, -0.27832278,\n",
       "        -0.98786452, -0.15646141,  0.13064069,  0.33586145, -0.32535226,\n",
       "        -0.989697  , -0.63342864, -0.81898683],\n",
       "       [ 0.43253195, -1.09219321, -1.45160352,  1.03301292,  0.15299523,\n",
       "        -0.33502675, -1.23708883,  1.52341978,  0.07889086,  2.26242583,\n",
       "         0.8059852 ,  0.32127249,  1.03472259,  0.64907756,  0.68063375,\n",
       "        -1.73902747,  0.58854748,  0.85038478,  0.14035837,  0.57436342,\n",
       "         2.36763772, -0.61444489,  1.38254639, -1.77469855, -0.75997463,\n",
       "         0.99049783,  0.82679485, -1.37802104],\n",
       "       [-0.22583485,  1.05410787, -0.18105012, -0.54893489,  0.40935751,\n",
       "        -0.70661924,  0.51647039, -2.56357536, -1.08485021,  2.16963233,\n",
       "         0.36869817, -0.36141385, -1.94253009,  0.43829918, -0.01032472,\n",
       "         0.41906031, -1.72763221,  1.26949171, -1.98001882, -2.38016944,\n",
       "         0.01914896,  1.66638792,  0.68636268,  0.5396873 ,  1.73440472,\n",
       "         0.20329491,  1.45013175, -0.91563508],\n",
       "       [-0.39042643, -1.68170006, -0.54219651, -2.04170952,  0.09166173,\n",
       "        -0.07841366,  0.06671239,  0.75043589,  0.88281201, -0.57273879,\n",
       "        -0.49525386,  1.06650172, -1.07088446,  1.3545947 ,  0.56446402,\n",
       "         0.55888789, -0.89116133, -0.22578415,  1.21829393,  0.43451916,\n",
       "         0.46866473,  0.38423833,  0.13640627, -0.00492356,  0.2006848 ,\n",
       "         1.43485915, -0.12745085,  0.65744252],\n",
       "       [-0.15198227,  0.15597947, -0.56464071, -0.38860334,  1.17292649,\n",
       "        -1.05754732,  1.17233334,  0.41852186,  0.76920089, -0.65723507,\n",
       "         0.11276117, -0.15393193,  0.2388114 ,  1.43207358,  1.38147775,\n",
       "         0.67838477, -0.51336838, -0.16444067,  1.13759884,  2.55827989,\n",
       "         0.44915792, -0.21912821, -0.26691735,  1.33350288,  0.30510339,\n",
       "         0.15846839,  0.32761394, -1.51127843],\n",
       "       [-0.76482797, -0.99520858, -0.4529954 ,  1.5898959 , -0.76679997,\n",
       "        -0.51821802, -0.36141639, -2.0400595 , -0.18414839, -0.85776933,\n",
       "        -1.02459265,  0.2968456 ,  1.02668406, -0.22154292, -0.65430998,\n",
       "        -1.71443061, -0.779695  ,  0.82784516,  0.66333727,  0.4503987 ,\n",
       "        -2.09482532, -2.71565205, -0.1871484 ,  1.09687748, -0.70190049,\n",
       "        -0.06327771, -1.00930645, -0.71740655],\n",
       "       [ 0.98472227, -1.3930163 , -0.77353702, -1.17708113,  2.74775563,\n",
       "         0.13712418,  0.90058783,  1.50600836,  0.45552483,  2.4367334 ,\n",
       "        -0.29086588, -0.92399209, -0.45088052,  1.71918272, -1.33171792,\n",
       "        -0.47441006, -1.24240361, -0.18339929, -0.37663049, -0.84867846,\n",
       "         0.38150005, -0.0302448 , -0.4696726 , -0.22440695,  0.61001046,\n",
       "        -1.95313549,  1.08743055, -0.74099524],\n",
       "       [ 0.89426131,  3.93121682,  0.58146535, -0.29873655, -1.60190863,\n",
       "         0.66106843,  1.47408052,  0.34398595, -0.09356146, -0.73933339,\n",
       "         0.57706663, -0.47127239, -0.95177052,  1.38445962,  0.28293244,\n",
       "         1.16257626,  1.67546005, -0.26231824, -0.04360678, -0.47086326,\n",
       "         1.56344926,  1.56127246,  0.96201764,  0.9139574 ,  0.7485612 ,\n",
       "         0.75172583,  0.39166182,  0.19387026],\n",
       "       [ 0.30787216, -1.29858329,  0.68633374,  0.94205474,  1.05177672,\n",
       "        -1.02704988, -0.54270743,  0.21787518, -0.22751166,  0.74203571,\n",
       "        -0.071982  , -0.70706142, -0.03122231, -0.28701482,  0.47201858,\n",
       "        -0.60732512,  0.63131287,  0.5329591 , -0.57812188, -0.97443531,\n",
       "         0.22199168,  0.13558101, -0.09786073,  0.82931014,  0.56131772,\n",
       "        -0.07742467,  0.38124393, -0.16449234],\n",
       "       [-0.28834606,  1.598168  ,  0.27546091, -1.77198362,  0.07563299,\n",
       "        -0.84005025,  1.24572974,  1.05854567, -2.10734633, -0.05163793,\n",
       "        -0.24140521,  0.8868586 ,  0.86012503, -0.67894461,  1.49264774,\n",
       "         0.70408134,  0.25329735, -0.5043003 , -1.45900339, -1.34072108,\n",
       "        -0.64205656, -0.11702184,  0.10880358,  0.8287101 ,  0.44620843,\n",
       "         0.47126791,  0.50383807,  0.18492016],\n",
       "       [-1.17897731, -1.82323723,  0.81043458,  0.19100504, -0.831113  ,\n",
       "         0.82620046,  0.11660339, -0.18611419,  1.05043932,  0.84695061,\n",
       "         0.37131068,  1.50611289, -0.5909401 ,  1.82607439,  0.40912092,\n",
       "         0.66255833,  1.37834671,  1.19474063,  1.58190624,  1.01446044,\n",
       "         0.50986621, -1.33072431, -0.04454957,  0.17066953,  1.05393405,\n",
       "         0.16185228, -0.38686403,  1.36421542],\n",
       "       [-0.12486069,  0.45440214,  0.63808913,  0.20930137, -0.35335885,\n",
       "         0.82603542,  0.33003253,  0.06566696,  0.01228725, -0.28758052,\n",
       "        -0.39461179,  1.03437157, -0.43029222, -0.77633585,  0.16291705,\n",
       "        -0.2038679 , -1.20340899, -0.77606002, -0.23755606,  1.17679505,\n",
       "         0.76475272, -0.11558874, -1.74317273, -0.80763641, -0.26003809,\n",
       "        -1.36098925, -0.79425304, -0.13846751],\n",
       "       [-1.66295055, -1.98414902, -1.68864677, -0.09018733, -0.74611559,\n",
       "        -0.50055685,  1.09112257,  2.35555264, -1.26027853, -0.05075775,\n",
       "        -0.97605952, -0.72011637,  1.37650561,  0.44361871,  0.56830798,\n",
       "        -0.20214704,  0.14105924, -1.28166911, -0.43441686, -1.12070712,\n",
       "         0.0072928 , -0.20741456, -2.00230755,  0.56647044,  0.06483896,\n",
       "        -1.32670829,  0.34697212,  1.94730494],\n",
       "       [ 1.16145576, -2.6602242 , -0.93244792, -1.58800441, -0.46550091,\n",
       "         0.16969504, -0.32652811, -0.05523252, -0.0378814 ,  1.77400999,\n",
       "        -0.14104054, -1.43449367, -0.11822451, -2.85729249, -1.79985652,\n",
       "        -0.47021745, -2.20245137, -0.38929694,  1.77719756, -0.06302103,\n",
       "        -1.10191735,  1.48866917, -0.3572836 ,  0.76605618, -0.71068319,\n",
       "         0.17586378, -1.58060597, -1.9883961 ],\n",
       "       [ 0.33525474,  0.5101911 ,  0.94015242, -1.00378345,  0.825182  ,\n",
       "         1.780972  , -1.55192746, -0.41842338,  0.84535605, -1.49793145,\n",
       "         0.17894785, -0.50381409,  1.82359388,  0.00897947,  0.97737749,\n",
       "         0.49396244,  0.09280555, -1.02059217,  0.94112817,  0.04337255,\n",
       "         0.62569636,  0.64619921, -1.1082885 ,  1.31120122,  0.87737119,\n",
       "        -1.68211549,  0.67288765, -0.67545459],\n",
       "       [ 0.51003253,  0.24993003,  1.31473955,  1.07784078, -2.95046934,\n",
       "         1.06138278, -1.91787756, -0.20915808,  0.12629882, -1.48959975,\n",
       "        -0.8378407 , -0.22936703,  0.25578404, -0.13664515,  1.3133503 ,\n",
       "        -0.00856494, -0.82674249, -0.73669998, -1.67343318,  0.81301737,\n",
       "        -1.11199413,  0.57173277,  0.97943596,  1.55225442, -0.39346021,\n",
       "        -0.31054598, -1.57014718, -0.80737546],\n",
       "       [-0.22738254, -0.05417552,  0.29391683,  1.16641758, -0.84208181,\n",
       "         1.06688302,  0.23887105,  0.19734082,  0.78236339, -1.30264184,\n",
       "        -0.23353311, -1.58334564, -0.96430947, -1.33127447,  1.8885359 ,\n",
       "        -0.58582634, -1.16346754, -1.96794224,  0.67545317, -0.31208542,\n",
       "         0.67363774, -0.01356117, -1.96949739, -0.02980431, -0.6766194 ,\n",
       "         0.89958024, -1.1581784 , -0.95227535],\n",
       "       [-1.0275592 , -0.24275166, -1.09860734, -0.02953156, -0.19954873,\n",
       "        -0.57971264,  0.52798167,  0.08412042, -0.47714462,  0.1769071 ,\n",
       "         0.01839755, -0.97946593,  0.42720055, -0.65787434, -0.61979458,\n",
       "         0.90370801, -0.22425537,  0.04836307,  1.48139115,  0.55396969,\n",
       "        -1.90955329,  0.35062051,  1.65139914, -0.02786036, -0.48242184,\n",
       "         1.82220128, -0.80609435, -2.15339439],\n",
       "       [ 0.52952713, -1.26733069,  0.22529987, -0.48147721, -0.00948425,\n",
       "        -0.53190782, -0.58312501, -0.34558788,  0.48265372, -2.23789663,\n",
       "        -0.50002467,  0.95660186,  0.06613891, -0.92968894, -0.9669659 ,\n",
       "         0.59242522,  1.16165221,  0.44714799, -2.44435244,  1.06041377,\n",
       "         0.5765571 ,  0.83494503,  1.3651765 , -1.08971695, -0.37261763,\n",
       "         2.2769754 , -0.37913623, -1.04437077],\n",
       "       [-0.50031492, -1.7315006 ,  0.2426781 , -0.35141076,  1.01640431,\n",
       "        -2.22388151, -0.74265236,  0.95873685,  0.74682834,  0.0416355 ,\n",
       "         1.5620814 ,  1.36350717, -0.97396155,  0.11572363,  1.79910412,\n",
       "        -0.16735104,  0.92943238,  0.91204421, -0.31644963,  0.33589841,\n",
       "        -1.48126245, -0.2969287 , -0.18438824,  1.49670807, -0.78418946,\n",
       "         0.39991991,  0.54962322, -0.73852406]])"
      ]
     },
     "execution_count": 4,
     "metadata": {},
     "output_type": "execute_result"
    }
   ],
   "source": [
    "random_noise = np.random.normal(\n",
    "    loc   = 0,      # 平均\n",
    "    scale = 1,      # 標準偏差\n",
    "    size  = (28, 28),# 出力配列のサイズ\n",
    ")\n",
    "random_noise"
   ]
  },
  {
   "cell_type": "code",
   "execution_count": 5,
   "metadata": {},
   "outputs": [
    {
     "data": {
      "text/plain": [
       "(-5, 5)"
      ]
     },
     "execution_count": 5,
     "metadata": {},
     "output_type": "execute_result"
    },
    {
     "data": {
      "image/png": "[encoded data removed]",
      "text/plain": [
       "<Figure size 432x288 with 1 Axes>"
      ]
     },
     "metadata": {
      "needs_background": "light"
     },
     "output_type": "display_data"
    }
   ],
   "source": [
    "plt.hist(random_noise,bins=5)\n",
    "plt.xlim(-5,5)"
   ]
  },
  {
   "cell_type": "code",
   "execution_count": 6,
   "metadata": {},
   "outputs": [
    {
     "data": {
      "text/plain": [
       "(10000, 28, 28)"
      ]
     },
     "execution_count": 6,
     "metadata": {},
     "output_type": "execute_result"
    }
   ],
   "source": [
    "randomed_x_test = (x_test + np.sign(random_noise) * eps).clip(min=0, max=1)\n",
    "randomed_x_test.shape"
   ]
  },
  {
   "cell_type": "code",
   "execution_count": 7,
   "metadata": {},
   "outputs": [],
   "source": [
    "x_test = x_test.reshape(-1, 1, 28, 28)\n",
    "randomed_x_test = randomed_x_test.reshape(-1, 1, 28, 28)"
   ]
  },
  {
   "cell_type": "code",
   "execution_count": 8,
   "metadata": {},
   "outputs": [
    {
     "name": "stdout",
     "output_type": "stream",
     "text": [
      "loaded Network Parameters!\n"
     ]
    }
   ],
   "source": [
    "network = DeepConvNet()\n",
    "\n",
    "network.load_params(\"deep_convnet_params.pkl\")\n",
    "print(\"loaded Network Parameters!\")"
   ]
  },
  {
   "cell_type": "code",
   "execution_count": 9,
   "metadata": {},
   "outputs": [],
   "source": [
    "def generate_adv(x, label, network, eps=0.01):\n",
    "    d, g = network.gradient_for_fgsm(x.reshape(1, 1, 28, 28), np.array([label]))\n",
    "    d = d.reshape(28, 28)\n",
    "    p = eps * np.sign(d)\n",
    "    adv = (x + p).clip(min=0, max=1)\n",
    "    adv = adv.reshape(1, 1, 28, 28)\n",
    "    return adv"
   ]
  },
  {
   "cell_type": "code",
   "execution_count": 10,
   "metadata": {},
   "outputs": [],
   "source": [
    "def change_adv_list(x_list, t_list, network, eps):\n",
    "    adv_list = []\n",
    "    for x, t in zip(x_list, t_list):\n",
    "        adv = generate_adv(x, t, network, eps)\n",
    "        adv_list.append(adv.reshape(1, 28, 28))\n",
    "        \n",
    "    adv_list = np.array(adv_list)\n",
    "    return adv_list"
   ]
  },
  {
   "cell_type": "code",
   "execution_count": 11,
   "metadata": {},
   "outputs": [
    {
     "data": {
      "text/plain": [
       "(10000, 1, 28, 28)"
      ]
     },
     "execution_count": 11,
     "metadata": {},
     "output_type": "execute_result"
    }
   ],
   "source": [
    "fgsm_test = change_adv_list(x_test, t_test, network, eps)\n",
    "fgsm_test.shape"
   ]
  },
  {
   "cell_type": "code",
   "execution_count": 12,
   "metadata": {},
   "outputs": [
    {
     "name": "stdout",
     "output_type": "stream",
     "text": [
      "無加工に対する正答率： 0.9925\n",
      "ランダムノイズに対する正答率： 0.8984\n",
      "FGSMに対する正答率： 0.3707\n"
     ]
    }
   ],
   "source": [
    "print(\"無加工に対する正答率：\", network.accuracy(x_test, t_test))\n",
    "print(\"ランダムノイズに対する正答率：\", network.accuracy(randomed_x_test, t_test))\n",
    "print(\"FGSMに対する正答率：\", network.accuracy(fgsm_test, t_test))"
   ]
  },
  {
   "cell_type": "code",
   "execution_count": 13,
   "metadata": {},
   "outputs": [
    {
     "name": "stdout",
     "output_type": "stream",
     "text": [
      "左から順に無加工、ランダムノイズ、FGSM\n"
     ]
    },
    {
     "data": {
      "image/png": "[encoded data removed]",
      "text/plain": [
       "<Figure size 1440x1440 with 3 Axes>"
      ]
     },
     "metadata": {
      "needs_background": "light"
     },
     "output_type": "display_data"
    }
   ],
   "source": [
    "print(\"左から順に無加工、ランダムノイズ、FGSM\")\n",
    "fig = plt.figure(figsize=(20, 20))\n",
    "fig.subplots_adjust(wspace=0.4, hspace=0.1)\n",
    "\n",
    "for i, x in enumerate([x_test[0], randomed_x_test[0], fgsm_test[0]]):\n",
    "    x = x.reshape(1, 1, 28, 28)\n",
    "    ax = fig.add_subplot(1, 3, i+1)\n",
    "    ax.imshow(x.reshape(28,28), 'gray')\n",
    "    pre = network.predict(x)\n",
    "    pre_label = np.argmax(pre)\n",
    "    pre_score = round(max(softmax(pre[0])), 2)\n",
    "    ax.set_title(f\"{pre_label} : {pre_score}\")"
   ]
  },
  {
   "cell_type": "code",
   "execution_count": null,
   "metadata": {},
   "outputs": [],
   "source": []
  }
 ],
 "metadata": {
  "kernelspec": {
   "display_name": "Python 3",
   "language": "python",
   "name": "python3"
  },
  "language_info": {
   "codemirror_mode": {
    "name": "ipython",
    "version": 3
   },
   "file_extension": ".py",
   "mimetype": "text/x-python",
   "name": "python",
   "nbconvert_exporter": "python",
   "pygments_lexer": "ipython3",
   "version": "3.7.3"
  }
 },
 "nbformat": 4,
 "nbformat_minor": 2
}
