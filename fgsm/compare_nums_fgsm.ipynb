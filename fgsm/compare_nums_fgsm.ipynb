{
 "cells": [
  {
   "cell_type": "code",
   "execution_count": 1,
   "metadata": {},
   "outputs": [
    {
     "name": "stderr",
     "output_type": "stream",
     "text": [
      "Using TensorFlow backend.\n"
     ]
    }
   ],
   "source": [
    "import numpy as np\n",
    "import matplotlib.pyplot as plt\n",
    "from keras.datasets import mnist\n",
    "from deep_convnet import DeepConvNet\n",
    "%matplotlib inline\n",
    "\n",
    "from common.functions import softmax"
   ]
  },
  {
   "cell_type": "code",
   "execution_count": 2,
   "metadata": {},
   "outputs": [],
   "source": [
    "# データの読み込み\n",
    "(x_train, t_train), (x_test, t_test) = mnist.load_data()\n",
    "\n",
    "# 正規化\n",
    "x_test = x_test.astype(np.float32) / 255.0"
   ]
  },
  {
   "cell_type": "code",
   "execution_count": 4,
   "metadata": {},
   "outputs": [
    {
     "name": "stdout",
     "output_type": "stream",
     "text": [
      "loaded Network Parameters!\n"
     ]
    }
   ],
   "source": [
    "network = DeepConvNet()\n",
    "\n",
    "network.load_params(\"deep_convnet_params.pkl\")\n",
    "print(\"loaded Network Parameters!\")"
   ]
  },
  {
   "cell_type": "code",
   "execution_count": 5,
   "metadata": {},
   "outputs": [],
   "source": [
    "true_idxs = [[], [], [], [], [], [], [], [], [], []]\n",
    "for i, t in enumerate(x_test):\n",
    "    pre_l = np.argmax(network.predict(t.reshape(1, 1, 28, 28)))\n",
    "    true_l = t_test[i]\n",
    "    if pre_l == true_l:\n",
    "        true_idxs[true_l].append(i)"
   ]
  },
  {
   "cell_type": "code",
   "execution_count": 6,
   "metadata": {},
   "outputs": [
    {
     "name": "stdout",
     "output_type": "stream",
     "text": [
      "i 975\n",
      "i 1126\n",
      "i 1029\n",
      "i 1009\n",
      "i 972\n",
      "i 882\n",
      "i 950\n",
      "i 1016\n",
      "i 970\n",
      "i 996\n",
      "---\n",
      "len_min 882\n",
      "sum of true_idxs 9925\n",
      "sum of test_x 10000\n",
      "acc 0.9925\n"
     ]
    }
   ],
   "source": [
    "len_min = x_test.shape[0]\n",
    "sum_true_idxs = 0\n",
    "for i, idxs in enumerate(true_idxs):\n",
    "    len_idxs = len(idxs)\n",
    "    print(\"i\", len_idxs)\n",
    "    sum_true_idxs += len_idxs\n",
    "    if len_idxs < len_min:\n",
    "        len_min = len_idxs\n",
    "        \n",
    "print(\"---\")\n",
    "print(\"len_min\", len_min)\n",
    "print(\"sum of true_idxs\", sum_true_idxs)\n",
    "print(\"sum of test_x\", x_test.shape[0])\n",
    "print(\"acc\", sum_true_idxs / x_test.shape[0])"
   ]
  },
  {
   "cell_type": "code",
   "execution_count": 7,
   "metadata": {},
   "outputs": [
    {
     "name": "stdout",
     "output_type": "stream",
     "text": [
      "true_x_list.shape (10, 800, 1, 28, 28)\n",
      "true_t_list.shape (10, 800)\n"
     ]
    }
   ],
   "source": [
    "len_true_nums = 800\n",
    "true_x_list = []\n",
    "true_t_list = []\n",
    "for i in range(10):\n",
    "    true_nums = true_idxs[i][:len_true_nums]\n",
    "    true_x_list.append(list(map(lambda x: [x_test[x]], true_nums)))\n",
    "    true_t_list.append(list(map(lambda x: t_test[x], true_nums)))\n",
    "    \n",
    "true_x_list = np.array(true_x_list)\n",
    "true_t_list = np.array(true_t_list)\n",
    "print(\"true_x_list.shape\", true_x_list.shape)\n",
    "print(\"true_t_list.shape\", true_t_list.shape)"
   ]
  },
  {
   "cell_type": "code",
   "execution_count": 8,
   "metadata": {},
   "outputs": [],
   "source": [
    "def generate_adv(x, label, network, eps=0.01):\n",
    "    d, g = network.gradient_for_fgsm(x.reshape(1, 1, 28, 28), np.array([label]))\n",
    "    d = d.reshape(28, 28)\n",
    "    p = eps * np.sign(d)\n",
    "    adv = (x + p).clip(min=0, max=1)\n",
    "    adv = adv.reshape(1, 1, 28, 28)\n",
    "    return adv"
   ]
  },
  {
   "cell_type": "code",
   "execution_count": 9,
   "metadata": {},
   "outputs": [],
   "source": [
    "def change_adv_list(x_list, t_list, network, eps):\n",
    "    adv_list = []\n",
    "    for x, t in zip(x_list, t_list):\n",
    "        adv = generate_adv(x, t, network, eps)\n",
    "        adv_list.append(adv.reshape(1, 28, 28))\n",
    "        \n",
    "    adv_list = np.array(adv_list)\n",
    "    return adv_list"
   ]
  },
  {
   "cell_type": "code",
   "execution_count": 15,
   "metadata": {},
   "outputs": [],
   "source": [
    "eps = 0.2"
   ]
  },
  {
   "cell_type": "code",
   "execution_count": 16,
   "metadata": {},
   "outputs": [
    {
     "name": "stdout",
     "output_type": "stream",
     "text": [
      "0\n",
      "無加工に対する正答率： 1.0\n",
      "FGSMに対する正答率： 0.83875\n",
      "---\n",
      "1\n",
      "無加工に対する正答率： 1.0\n",
      "FGSMに対する正答率： 0.575\n",
      "---\n",
      "2\n",
      "無加工に対する正答率： 1.0\n",
      "FGSMに対する正答率： 0.86375\n",
      "---\n",
      "3\n",
      "無加工に対する正答率： 1.0\n",
      "FGSMに対する正答率： 0.89375\n",
      "---\n",
      "4\n",
      "無加工に対する正答率： 1.0\n",
      "FGSMに対する正答率： 0.6375\n",
      "---\n",
      "5\n",
      "無加工に対する正答率： 1.0\n",
      "FGSMに対する正答率： 0.69875\n",
      "---\n",
      "6\n",
      "無加工に対する正答率： 1.0\n",
      "FGSMに対する正答率： 0.83\n",
      "---\n",
      "7\n",
      "無加工に対する正答率： 1.0\n",
      "FGSMに対する正答率： 0.71375\n",
      "---\n",
      "8\n",
      "無加工に対する正答率： 1.0\n",
      "FGSMに対する正答率： 0.60625\n",
      "---\n",
      "9\n",
      "無加工に対する正答率： 1.0\n",
      "FGSMに対する正答率： 0.74875\n",
      "---\n",
      "fgsm_test.shape (10, 800, 1, 28, 28)\n"
     ]
    }
   ],
   "source": [
    "fgsm_test = []\n",
    "for i, (x_li, t_li) in enumerate(zip(true_x_list, true_t_list)):\n",
    "    print(i)\n",
    "    fgsm_li = change_adv_list(x_li, t_li, network, eps)\n",
    "    fgsm_test.append(fgsm_li)\n",
    "    print(\"無加工に対する正答率：\", network.accuracy(x_li, t_li))\n",
    "    print(\"FGSMに対する正答率：\", network.accuracy(fgsm_li, t_li))\n",
    "    print(\"---\")\n",
    "    \n",
    "fgsm_test = np.array(fgsm_test)\n",
    "print(\"fgsm_test.shape\",fgsm_test.shape)"
   ]
  },
  {
   "cell_type": "code",
   "execution_count": 17,
   "metadata": {},
   "outputs": [
    {
     "data": {
      "image/png": "[encoded data removed]",
      "text/plain": [
       "<Figure size 432x288 with 1 Axes>"
      ]
     },
     "metadata": {
      "needs_background": "light"
     },
     "output_type": "display_data"
    }
   ],
   "source": [
    "plt.imshow(fgsm_test[0,0,0], 'gray')\n",
    "plt.show()"
   ]
  },
  {
   "cell_type": "code",
   "execution_count": null,
   "metadata": {},
   "outputs": [],
   "source": []
  }
 ],
 "metadata": {
  "kernelspec": {
   "display_name": "Python 3",
   "language": "python",
   "name": "python3"
  },
  "language_info": {
   "codemirror_mode": {
    "name": "ipython",
    "version": 3
   },
   "file_extension": ".py",
   "mimetype": "text/x-python",
   "name": "python",
   "nbconvert_exporter": "python",
   "pygments_lexer": "ipython3",
   "version": "3.7.3"
  }
 },
 "nbformat": 4,
 "nbformat_minor": 2
}
