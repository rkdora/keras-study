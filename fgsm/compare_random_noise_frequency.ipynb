{
 "cells": [
  {
   "cell_type": "code",
   "execution_count": 1,
   "metadata": {},
   "outputs": [
    {
     "name": "stderr",
     "output_type": "stream",
     "text": [
      "Using TensorFlow backend.\n"
     ]
    }
   ],
   "source": [
    "import numpy as np\n",
    "import matplotlib.pyplot as plt\n",
    "from keras.datasets import mnist\n",
    "from deep_convnet import DeepConvNet\n",
    "%matplotlib inline\n",
    "\n",
    "from common.functions import softmax"
   ]
  },
  {
   "cell_type": "code",
   "execution_count": 2,
   "metadata": {},
   "outputs": [],
   "source": [
    "# データの読み込み\n",
    "(x_train, t_train), (x_test, t_test) = mnist.load_data()\n",
    "\n",
    "# 正規化\n",
    "x_train, x_test = x_train.astype(np.float32) / 255.0, x_test.astype(np.float32) / 255.0"
   ]
  },
  {
   "cell_type": "code",
   "execution_count": 3,
   "metadata": {},
   "outputs": [],
   "source": [
    "eps = 0.3"
   ]
  },
  {
   "cell_type": "code",
   "execution_count": 4,
   "metadata": {},
   "outputs": [
    {
     "data": {
      "text/plain": [
       "array([[-2.96575308e-01, -1.00160657e+00,  2.93084873e-01,\n",
       "         9.86831306e-01,  1.83654231e-01, -1.50343243e+00,\n",
       "        -7.44824776e-02, -5.38577690e-01, -5.59657082e-01,\n",
       "        -6.72047537e-01, -1.22141772e+00, -1.63349266e+00,\n",
       "         1.30036393e+00,  1.24531529e+00,  6.35741755e-01,\n",
       "         8.45210319e-01,  1.80057085e-01,  1.52332079e+00,\n",
       "         1.25536377e+00,  9.23071385e-01,  8.23733007e-01,\n",
       "         3.07782309e-01, -1.27753717e-01,  2.79621966e-02,\n",
       "         1.47396699e-02, -7.25538848e-01, -4.52949512e-01,\n",
       "         8.70793943e-01],\n",
       "       [-9.28664560e-02, -8.95927693e-01,  6.86842042e-01,\n",
       "         1.87687180e+00,  1.11896786e+00, -2.32814255e+00,\n",
       "        -1.69625339e-01, -8.53134785e-01, -3.87978290e-01,\n",
       "         6.93335805e-01, -7.67561385e-01, -4.28558617e-01,\n",
       "         5.72959555e-01, -4.77069883e-01, -6.94125100e-01,\n",
       "        -2.54735172e-01, -5.97293963e-01, -4.01358248e-01,\n",
       "        -2.68106183e+00,  5.68483150e-01,  2.05494597e-01,\n",
       "         1.13270627e+00, -2.75136280e+00,  1.15774829e+00,\n",
       "        -3.33799237e-03,  1.45042818e+00, -1.76818924e-02,\n",
       "         1.30555881e-01],\n",
       "       [ 5.65335435e-01,  7.64362366e-01, -6.21208262e-01,\n",
       "        -1.84118146e-02,  1.44085655e+00,  4.39804002e-01,\n",
       "         7.58483711e-01, -9.72196690e-01,  3.17392176e-01,\n",
       "        -3.72722406e-01, -1.27540154e+00,  7.08348595e-01,\n",
       "        -2.27413042e-01,  9.24493901e-01,  6.79485954e-02,\n",
       "        -1.00391468e+00, -1.72021763e+00, -6.94548489e-01,\n",
       "         4.01030989e-01,  8.62151297e-01, -1.24249331e+00,\n",
       "        -2.06228545e+00, -9.71540514e-01, -8.51182109e-01,\n",
       "        -1.30174607e+00,  9.22246680e-01,  1.12391916e+00,\n",
       "        -2.16130907e+00],\n",
       "       [-9.28439693e-01, -7.51665890e-03,  5.28617465e-01,\n",
       "         8.69649617e-02,  2.69772276e-01,  3.60255461e-01,\n",
       "         5.07012892e-01,  4.33713797e-01,  4.52649401e-01,\n",
       "         2.78270165e+00, -1.01803660e+00, -9.14222246e-01,\n",
       "         7.21555515e-01,  1.13517055e+00,  5.56042645e-01,\n",
       "        -1.02161800e+00, -1.60314453e+00, -2.56380632e-01,\n",
       "         5.88689783e-02, -1.41266491e+00,  1.17837695e-01,\n",
       "        -2.70680780e-02,  2.96313054e-02, -8.39696722e-01,\n",
       "         2.92733491e-01, -4.59637191e-01, -7.75470408e-01,\n",
       "         8.73366142e-01],\n",
       "       [-2.28412553e-01, -1.57714228e+00,  1.28566788e+00,\n",
       "         5.28276400e-01, -4.71005960e-01, -1.18744862e+00,\n",
       "        -2.81035586e-01,  2.62357654e-03,  2.56341708e-01,\n",
       "        -2.60937447e-01, -4.68943942e-02,  7.75810501e-02,\n",
       "        -1.20792759e+00,  9.17134380e-02,  1.38469285e+00,\n",
       "        -8.67954245e-01,  2.17144071e-01, -2.01028082e-01,\n",
       "         5.92454637e-01, -4.08071116e-01, -2.65919682e+00,\n",
       "         6.77417164e-01,  1.11552962e+00, -1.21832758e+00,\n",
       "        -2.47064551e-01,  1.12630755e+00,  1.81951806e+00,\n",
       "        -1.16370817e-01],\n",
       "       [ 1.18111588e+00,  7.68202983e-01,  7.04092288e-01,\n",
       "         1.60469675e+00,  1.94046705e+00, -1.04506233e+00,\n",
       "        -1.06090060e+00, -1.63918832e+00, -2.33188017e-01,\n",
       "        -6.07529774e-01,  1.90217694e+00, -1.96644428e+00,\n",
       "         7.70191355e-01, -2.04169644e-01,  1.16246662e-01,\n",
       "        -4.35172548e-01,  1.94890145e-01, -1.18745428e-01,\n",
       "        -1.45089631e+00,  4.10441910e-01,  2.04153994e-01,\n",
       "        -1.23430688e+00,  1.46845901e+00, -1.28770104e+00,\n",
       "        -8.22539566e-01,  2.44417039e-01, -9.85367954e-01,\n",
       "         2.02217621e-01],\n",
       "       [-2.15324696e-01,  1.03598781e+00,  9.05861463e-02,\n",
       "         4.55857908e-01,  3.25574742e+00,  2.93346598e-01,\n",
       "         9.65172464e-01, -5.31956831e-01,  1.29706503e+00,\n",
       "        -7.62791273e-03,  1.45800662e+00,  5.88652876e-01,\n",
       "        -1.48541632e+00, -5.22167999e-03, -1.24882303e+00,\n",
       "         6.21247621e-01, -3.75217810e-03, -8.08425812e-01,\n",
       "         8.56709806e-01,  1.19707786e+00, -7.73663233e-02,\n",
       "        -1.19801360e+00,  6.06149655e-01, -1.45790743e+00,\n",
       "         1.03025866e+00, -3.29616536e+00,  2.09218829e-01,\n",
       "         2.06990877e+00],\n",
       "       [ 1.38352608e+00,  3.74430829e-01, -2.27383841e-01,\n",
       "        -1.01833436e+00,  6.38726085e-02,  8.81699956e-01,\n",
       "        -1.63364681e+00, -1.27054976e-01, -9.13285467e-01,\n",
       "         3.01862965e-01, -6.71633450e-03,  2.91123647e-01,\n",
       "        -7.46186561e-01, -1.19501298e+00,  4.26696381e-01,\n",
       "        -1.42710892e-01,  7.37116783e-01, -1.29839366e+00,\n",
       "         3.76154504e-01, -4.99215953e-01, -5.59048466e-01,\n",
       "         1.46078160e+00, -9.95222866e-01,  4.23746421e-02,\n",
       "         8.53968623e-02,  6.92496663e-01,  1.66202549e-01,\n",
       "         8.28574029e-01],\n",
       "       [-9.41735053e-01,  1.75517687e+00,  7.74146739e-01,\n",
       "         7.18496966e-01,  1.05376802e+00, -2.66262979e-01,\n",
       "        -2.69542697e-01, -1.32578619e+00,  1.88851603e+00,\n",
       "        -4.07225668e-01,  9.66545148e-01,  1.73856100e-01,\n",
       "        -1.29553701e+00,  1.09854021e-01,  1.26521795e+00,\n",
       "        -1.60886699e+00, -1.31219251e-01,  3.66502114e-01,\n",
       "         3.54417326e-01, -9.23510747e-01,  9.86004914e-01,\n",
       "         1.10285218e-01, -3.22599206e-01,  1.00731878e+00,\n",
       "        -5.12165732e-01,  7.43960611e-01, -4.80245992e-01,\n",
       "         2.88987282e-01],\n",
       "       [-2.43477739e-01, -5.85143243e-02,  8.78729507e-01,\n",
       "         2.29343170e+00, -7.42688054e-01, -5.09660274e-01,\n",
       "         1.32947568e+00, -2.11862193e+00,  4.05559943e-01,\n",
       "         1.50680629e+00,  6.55755107e-01,  9.43320036e-01,\n",
       "        -3.75135015e-01,  8.00260322e-01, -3.14489701e-01,\n",
       "        -4.11865433e-01, -7.73700859e-01,  5.81444738e-01,\n",
       "        -7.25717037e-01,  2.72141119e+00, -8.35756405e-01,\n",
       "        -1.46709756e+00, -6.67886307e-01,  3.53448530e-01,\n",
       "        -4.39504355e-01,  9.91773228e-02,  3.74478708e-01,\n",
       "         7.46817554e-01],\n",
       "       [-2.46807345e+00,  1.12723990e+00, -5.20492529e-01,\n",
       "         1.64626030e+00, -2.13134419e-01,  1.15846831e+00,\n",
       "         1.17478204e+00,  1.00467691e+00, -6.68199914e-01,\n",
       "         8.12456035e-01, -7.14682620e-01, -7.38690441e-01,\n",
       "         1.27233453e-01, -1.65571740e+00,  9.36092910e-02,\n",
       "        -1.14033549e+00, -4.42453760e-01, -1.14936443e+00,\n",
       "         2.85231726e-01, -5.00749389e-01,  5.10250498e-01,\n",
       "        -6.24324091e-02,  6.97601403e-01,  4.45698304e-01,\n",
       "        -2.63338769e-01, -1.85904906e+00, -5.99489733e-01,\n",
       "        -3.02652876e-01],\n",
       "       [-1.31303190e+00,  2.22687234e-01,  1.56729227e+00,\n",
       "        -2.45483190e+00,  5.06517367e-01, -1.34824163e+00,\n",
       "        -6.69991593e-01, -2.25793896e-01, -9.83148641e-01,\n",
       "        -1.23273463e+00, -1.25555194e+00,  8.45664380e-01,\n",
       "         8.99347549e-01,  2.36476888e+00, -2.94268256e-01,\n",
       "         1.38390953e-01, -1.73877087e+00, -5.68950615e-01,\n",
       "        -6.62344532e-01, -7.41024174e-01,  2.05839486e-01,\n",
       "        -3.24549869e-01, -5.09480112e-01, -8.05530870e-01,\n",
       "        -6.13094942e-01,  1.15422714e+00,  1.53201078e+00,\n",
       "        -3.15509670e+00],\n",
       "       [ 1.71837494e+00, -1.49674276e+00, -8.70916299e-02,\n",
       "        -1.76410596e+00, -1.22907073e+00,  6.76015798e-01,\n",
       "        -5.38907381e-01, -1.01408802e+00,  2.01189069e-01,\n",
       "        -3.69118968e-01, -5.34966830e-01, -1.50739792e+00,\n",
       "        -1.12485496e+00,  6.21748622e-01,  3.29902938e-01,\n",
       "        -3.35419417e-01, -3.15367093e-02, -4.48643645e-01,\n",
       "        -3.53903785e-01, -1.19960697e+00, -8.17950151e-01,\n",
       "        -1.47871400e-01,  8.51367472e-01,  1.06690521e-01,\n",
       "        -1.87982837e-01,  3.30814751e-01,  2.78650335e-01,\n",
       "        -4.22187089e-01],\n",
       "       [-6.28018112e-01,  2.10339247e-03, -6.70516220e-01,\n",
       "         7.63136740e-01, -1.68267338e+00, -3.03897521e+00,\n",
       "         1.73887482e-01,  1.34844986e+00,  3.17655833e-01,\n",
       "        -1.52666386e+00, -1.93544393e+00, -4.94037725e-01,\n",
       "        -3.71136135e-01, -1.23700632e+00,  7.82684097e-01,\n",
       "         1.52712076e+00, -1.73754587e-02,  9.22284804e-01,\n",
       "        -4.38149074e-01, -2.07903149e-01,  6.89609124e-01,\n",
       "        -1.92910686e-01,  2.00578753e+00,  2.75591172e-01,\n",
       "         2.02134725e+00,  3.11411766e-01, -2.50956021e+00,\n",
       "         6.38241502e-01],\n",
       "       [ 6.63970454e-01,  1.33712322e+00,  2.68615080e+00,\n",
       "         2.35118932e-01,  6.41090942e-01, -1.85331269e+00,\n",
       "         7.48060502e-01,  9.59766339e-02, -5.47763746e-01,\n",
       "        -8.56343410e-01,  1.07059305e-01, -4.23396816e-01,\n",
       "        -9.39927867e-02, -7.44012788e-01, -2.95066495e-01,\n",
       "        -5.68096828e-02, -2.37580127e-01,  9.78155743e-01,\n",
       "         5.27338780e-01, -1.57798737e+00, -9.52331224e-02,\n",
       "        -1.08008336e+00, -4.69370537e-01, -1.08854070e+00,\n",
       "         5.01794719e-01,  8.51758107e-02,  8.65849607e-01,\n",
       "         4.90490402e-01],\n",
       "       [ 2.28891023e-01,  3.09039388e-01,  4.74168138e-01,\n",
       "         2.27044078e+00,  1.08407260e+00,  4.75694356e-01,\n",
       "        -3.38696390e-01,  1.14970049e+00, -5.07349435e-02,\n",
       "        -1.23744247e+00, -2.35258560e+00, -3.95423258e-01,\n",
       "        -1.42611316e-01, -2.19211298e-01, -1.15750529e+00,\n",
       "         8.45714581e-01, -7.18976958e-01, -3.33830542e-01,\n",
       "         1.12971508e+00,  4.54207815e-01, -5.13014787e-01,\n",
       "         2.43622947e+00,  1.56531981e+00, -9.05434747e-01,\n",
       "        -7.14507842e-01, -1.16960767e-01, -1.27847093e+00,\n",
       "        -6.14991302e-01],\n",
       "       [ 1.17913561e+00,  6.94024739e-01, -6.15476680e-01,\n",
       "        -8.02235555e-01, -9.36349990e-01, -6.69635315e-01,\n",
       "         7.13603177e-01, -1.28863475e+00, -7.55521796e-01,\n",
       "        -4.19924778e-01,  3.00782114e-01,  1.34145823e+00,\n",
       "         1.03370370e-01,  6.07435560e-01,  7.21765271e-02,\n",
       "        -1.60977847e+00, -2.41774776e-01, -5.08478345e-01,\n",
       "         1.07129163e+00, -2.75497253e-01, -4.94125771e-01,\n",
       "        -1.05027880e+00,  5.90997567e-01,  6.78741607e-02,\n",
       "         1.33780935e+00,  1.33816008e+00, -5.59794511e-01,\n",
       "        -1.51246933e-01],\n",
       "       [-7.38824921e-01,  1.43549051e-01,  3.73990651e-01,\n",
       "         1.43009084e+00, -3.65218684e-01,  2.64881857e-01,\n",
       "         7.27118137e-01,  1.28236850e-01, -7.62358110e-01,\n",
       "         9.43248111e-01,  9.31452206e-01,  1.11611187e+00,\n",
       "        -6.59480963e-01, -1.53679323e+00, -8.17100634e-02,\n",
       "         6.55680658e-02, -4.74188441e-01,  1.09173307e+00,\n",
       "         4.02303737e-01, -8.26819134e-01,  1.01436183e-01,\n",
       "         7.77645690e-01, -1.29030848e+00, -3.25050868e-01,\n",
       "        -2.55727425e-01,  5.06586192e-01, -2.16912736e-02,\n",
       "         5.98062408e-01],\n",
       "       [-6.86728416e-03, -1.66274585e+00,  5.23294737e-02,\n",
       "        -1.43607791e+00, -4.85419225e-01,  2.89471552e-01,\n",
       "         8.13489053e-01, -1.22163888e+00, -1.25333182e+00,\n",
       "        -4.65897438e-01, -2.43884649e-01,  5.99731816e-02,\n",
       "         2.40947078e+00,  4.70524579e-01, -7.27733505e-01,\n",
       "         1.76993631e+00,  1.88623303e-01, -3.90295599e-01,\n",
       "        -1.50190111e+00,  1.13875372e+00, -3.24952552e-01,\n",
       "        -4.67617474e-01, -7.52793220e-02, -1.08350874e+00,\n",
       "         2.85368764e-01, -2.42929006e-02,  9.38939877e-01,\n",
       "        -1.83633262e+00],\n",
       "       [-5.76018526e-01,  6.68768789e-01,  5.12787065e-01,\n",
       "        -1.14043582e+00,  1.55465264e+00,  7.46297825e-01,\n",
       "         7.73901474e-01, -1.18440938e+00,  1.12216857e+00,\n",
       "         3.14579474e-01, -5.97100357e-01, -1.09086019e+00,\n",
       "        -6.01760619e-01,  1.57080381e+00, -8.96503644e-01,\n",
       "         3.07843138e-01, -1.36648921e-01, -5.11756515e-01,\n",
       "         1.68744006e+00, -1.32145144e-01,  1.30761300e+00,\n",
       "         1.10469195e+00, -1.05260787e+00,  1.27776375e+00,\n",
       "         1.03414659e-02, -4.16338557e-02,  3.67026424e-01,\n",
       "         3.89684486e-01],\n",
       "       [-1.23655952e+00,  4.95977383e-01, -5.08701305e-01,\n",
       "         1.14528111e+00, -1.86891054e-01,  1.06064747e+00,\n",
       "         2.14183530e+00, -4.13395098e-01, -5.63308587e-01,\n",
       "        -6.11495629e-01, -8.02228080e-02,  6.67286157e-01,\n",
       "        -2.82219794e-01,  2.26110702e+00,  6.94749519e-01,\n",
       "         1.05385399e+00, -6.21820595e-01, -1.15201301e+00,\n",
       "         6.12934571e-01, -6.67373059e-01,  3.79807789e-01,\n",
       "        -3.73589800e-03, -3.38134820e-02, -1.74701654e+00,\n",
       "         6.54210312e-01, -1.86668690e-01,  1.01184119e+00,\n",
       "        -4.18647855e-01],\n",
       "       [ 2.94111164e-01,  2.91264109e-01,  1.52812059e-02,\n",
       "        -5.70750956e-01,  2.55673557e+00, -1.09643527e+00,\n",
       "         5.60191560e-01, -7.85068483e-01,  1.15421501e+00,\n",
       "         1.18283390e+00,  4.74915790e-01, -1.91498241e-01,\n",
       "        -5.56639800e-01, -4.04028543e-01,  2.67948791e-01,\n",
       "         6.48527893e-01,  1.10565668e+00, -2.92927038e-01,\n",
       "         2.18321705e+00, -8.92617072e-01, -5.13402854e-01,\n",
       "        -7.03461567e-02, -1.59241076e-01, -8.76586709e-01,\n",
       "        -3.06064537e+00, -3.44666859e-01, -4.98808015e-01,\n",
       "         1.58267693e+00],\n",
       "       [-8.76693525e-01,  1.58586202e-01, -1.39536973e+00,\n",
       "         1.41771276e-01, -1.65907106e+00,  6.70235669e-01,\n",
       "        -1.04226491e+00,  1.49959692e-01,  1.86379283e-01,\n",
       "        -1.12396004e+00,  1.20964479e+00, -8.76972105e-01,\n",
       "        -6.88648701e-01, -1.31317911e+00, -1.42964341e+00,\n",
       "        -1.70468391e+00, -3.76167636e-01,  1.73612083e+00,\n",
       "        -3.88281152e-01,  4.88077605e-02, -1.08154148e-01,\n",
       "        -1.62561168e+00, -1.37691351e+00,  3.82816419e-01,\n",
       "         4.27914833e-01,  4.58697806e-01, -9.19507559e-01,\n",
       "         2.74908847e-02],\n",
       "       [-4.70347312e-01, -8.92054317e-01, -3.37309934e-01,\n",
       "        -1.39071947e+00, -7.66680921e-02,  2.38512488e-01,\n",
       "        -1.69912055e-02,  8.04259755e-01,  2.17608739e+00,\n",
       "         4.29859827e-01,  4.08012740e-01, -8.23115337e-01,\n",
       "         3.08968646e-01, -5.35705451e-01, -1.05355630e+00,\n",
       "         1.17163379e-01, -3.87698023e-01, -1.02866620e+00,\n",
       "        -6.44561544e-02, -1.03306376e+00,  2.51497666e-01,\n",
       "         4.03122271e-01,  1.53362177e+00, -8.77382122e-01,\n",
       "        -3.30755872e-01, -2.40831899e-01, -2.33766073e+00,\n",
       "         2.64260104e-01],\n",
       "       [-2.56039844e-01,  7.88092576e-01,  2.52760773e-01,\n",
       "         4.41237810e-01,  6.36309512e-01,  1.39052078e-01,\n",
       "        -4.79752985e-01,  5.45317464e-01,  7.05180950e-01,\n",
       "         2.28837062e+00, -4.38903408e-02,  2.50500040e+00,\n",
       "        -5.19299294e-01, -1.42944719e+00, -7.90662713e-01,\n",
       "         3.93409870e-01, -6.54476334e-01,  2.82866631e+00,\n",
       "         1.06885046e+00,  1.38535179e-01, -2.90907261e-01,\n",
       "        -3.50964836e-01, -1.66112410e+00, -1.10114974e+00,\n",
       "        -1.70123287e+00, -8.05174874e-01, -1.65474131e-01,\n",
       "        -1.47416994e+00],\n",
       "       [ 1.55859860e+00, -1.16472902e+00,  1.67225434e+00,\n",
       "        -1.33142882e-01,  4.19586273e-01,  7.47309136e-01,\n",
       "         5.14837459e-01,  5.18903631e-01, -3.98266599e-01,\n",
       "         9.87364888e-02, -1.46425162e-01, -7.27574161e-01,\n",
       "        -6.41427482e-01,  3.15663678e-01,  3.26815611e-01,\n",
       "         1.53641316e+00, -4.45414634e-01,  2.00847044e-01,\n",
       "        -9.00793770e-02,  8.07100916e-01, -6.46961381e-01,\n",
       "        -1.24563984e+00,  2.48986681e-01, -1.69180454e-01,\n",
       "        -2.87154583e-01,  1.89978614e+00,  1.18766521e+00,\n",
       "        -1.25843385e+00],\n",
       "       [-2.00591513e-01, -9.83353613e-01,  4.19383347e-01,\n",
       "        -1.03923345e+00, -1.16383050e+00,  1.61074061e+00,\n",
       "         1.59948780e+00, -6.94924695e-01, -8.74484329e-01,\n",
       "         1.73277300e+00,  9.68496017e-01, -4.02560635e-01,\n",
       "         4.01938507e-01,  3.14627519e-01,  1.98464652e+00,\n",
       "         1.43719763e+00, -1.28910494e+00, -6.84946724e-01,\n",
       "         9.08294114e-02,  6.19134800e-01, -3.66936273e-01,\n",
       "         5.01912522e-01,  1.82774327e+00, -7.54942189e-01,\n",
       "         2.54582128e+00, -7.34864043e-01,  3.10202281e-01,\n",
       "         1.01839973e+00],\n",
       "       [ 1.18762464e+00, -7.16775381e-01,  2.57211257e+00,\n",
       "         3.25933015e-01,  5.81383142e-02,  6.80993080e-01,\n",
       "         2.02337413e+00, -5.64008059e-01,  1.58828901e+00,\n",
       "        -1.00422032e-01,  1.61407544e+00,  4.01997112e-01,\n",
       "         3.73884932e-01,  3.35141670e-01,  3.60264347e-01,\n",
       "         5.47378796e-01,  2.85651965e-01, -4.24740490e-01,\n",
       "         1.07211967e+00,  2.08674379e+00, -5.76938876e-01,\n",
       "         3.18764092e-01,  9.13000541e-01, -7.49889073e-01,\n",
       "         1.71320134e+00,  1.32124713e+00,  1.33716322e-02,\n",
       "        -3.70519920e-01]])"
      ]
     },
     "execution_count": 4,
     "metadata": {},
     "output_type": "execute_result"
    }
   ],
   "source": [
    "random_noise = np.random.normal(\n",
    "    loc   = 0,      # 平均\n",
    "    scale = 1,      # 標準偏差\n",
    "    size  = (28, 28),# 出力配列のサイズ\n",
    ")\n",
    "random_noise"
   ]
  },
  {
   "cell_type": "code",
   "execution_count": 5,
   "metadata": {},
   "outputs": [
    {
     "data": {
      "text/plain": [
       "(-5, 5)"
      ]
     },
     "execution_count": 5,
     "metadata": {},
     "output_type": "execute_result"
    },
    {
     "data": {
      "image/png": "[encoded data removed]",
      "text/plain": [
       "<Figure size 432x288 with 1 Axes>"
      ]
     },
     "metadata": {
      "needs_background": "light"
     },
     "output_type": "display_data"
    }
   ],
   "source": [
    "plt.hist(random_noise,bins=5)\n",
    "plt.xlim(-5,5)"
   ]
  },
  {
   "cell_type": "code",
   "execution_count": 6,
   "metadata": {},
   "outputs": [
    {
     "data": {
      "text/plain": [
       "(10000, 28, 28)"
      ]
     },
     "execution_count": 6,
     "metadata": {},
     "output_type": "execute_result"
    }
   ],
   "source": [
    "noised_test = (x_test + np.sign(random_noise) * eps).clip(min=0, max=1)\n",
    "noised_test.shape"
   ]
  },
  {
   "cell_type": "code",
   "execution_count": 7,
   "metadata": {},
   "outputs": [],
   "source": [
    "x_test = x_test.reshape(-1, 1, 28, 28)\n",
    "noised_test = noised_test.reshape(-1, 1, 28, 28)"
   ]
  },
  {
   "cell_type": "code",
   "execution_count": 8,
   "metadata": {},
   "outputs": [
    {
     "name": "stdout",
     "output_type": "stream",
     "text": [
      "loaded Network Parameters!\n"
     ]
    }
   ],
   "source": [
    "network = DeepConvNet()\n",
    "\n",
    "network.load_params(\"deep_convnet_params.pkl\")\n",
    "print(\"loaded Network Parameters!\")"
   ]
  },
  {
   "cell_type": "code",
   "execution_count": 9,
   "metadata": {},
   "outputs": [],
   "source": [
    "def change_noise_list(x_list, eps):\n",
    "    noise_list = []\n",
    "    for x in x_list:\n",
    "        random_noise1 = np.random.normal(loc = 0, scale = 1, size = (1, 28, 28))\n",
    "        noise = (x + eps * np.sign(random_noise1)).clip(min=0, max=1)\n",
    "        noise_list.append(noise)\n",
    "        \n",
    "    noise_list = np.array(noise_list)\n",
    "    return noise_list"
   ]
  },
  {
   "cell_type": "code",
   "execution_count": 10,
   "metadata": {},
   "outputs": [],
   "source": [
    "def generate_adv(x, label, network, eps=0.01):\n",
    "    d, g = network.gradient_for_fgsm(x.reshape(1, 1, 28, 28), np.array([label]))\n",
    "    d = d.reshape(28, 28)\n",
    "    p = eps * np.sign(d)\n",
    "    adv = (x + p).clip(min=0, max=1)\n",
    "    adv = adv.reshape(1, 1, 28, 28)\n",
    "    return adv"
   ]
  },
  {
   "cell_type": "code",
   "execution_count": 11,
   "metadata": {},
   "outputs": [],
   "source": [
    "def change_adv_list(x_list, t_list, network, eps):\n",
    "    adv_list = []\n",
    "    for x, t in zip(x_list, t_list):\n",
    "        adv = generate_adv(x, t, network, eps)\n",
    "        adv_list.append(adv.reshape(1, 28, 28))\n",
    "        \n",
    "    adv_list = np.array(adv_list)\n",
    "    return adv_list"
   ]
  },
  {
   "cell_type": "code",
   "execution_count": 12,
   "metadata": {},
   "outputs": [
    {
     "data": {
      "text/plain": [
       "(10000, 1, 28, 28)"
      ]
     },
     "execution_count": 12,
     "metadata": {},
     "output_type": "execute_result"
    }
   ],
   "source": [
    "noised1_test = change_noise_list(x_test, eps)\n",
    "noised1_test.shape"
   ]
  },
  {
   "cell_type": "code",
   "execution_count": 13,
   "metadata": {},
   "outputs": [
    {
     "data": {
      "text/plain": [
       "(10000, 1, 28, 28)"
      ]
     },
     "execution_count": 13,
     "metadata": {},
     "output_type": "execute_result"
    }
   ],
   "source": [
    "fgsm_test = change_adv_list(x_test, t_test, network, eps)\n",
    "fgsm_test.shape"
   ]
  },
  {
   "cell_type": "code",
   "execution_count": 14,
   "metadata": {},
   "outputs": [
    {
     "name": "stdout",
     "output_type": "stream",
     "text": [
      "無加工に対する正答率： 0.9925\n",
      "ランダムノイズに対する正答率（統一したノイズ）： 0.9372\n",
      "ランダムノイズに対する正答率（全部異なるノイズ）： 0.899\n",
      "FGSMに対する正答率： 0.3733\n"
     ]
    }
   ],
   "source": [
    "print(\"無加工に対する正答率：\", network.accuracy(x_test, t_test))\n",
    "print(\"ランダムノイズに対する正答率（統一したノイズ）：\", network.accuracy(noised_test, t_test))\n",
    "print(\"ランダムノイズに対する正答率（全部異なるノイズ）：\", network.accuracy(noised1_test, t_test))\n",
    "print(\"FGSMに対する正答率：\", network.accuracy(fgsm_test, t_test))"
   ]
  },
  {
   "cell_type": "code",
   "execution_count": 15,
   "metadata": {},
   "outputs": [
    {
     "name": "stdout",
     "output_type": "stream",
     "text": [
      "左から順に無加工、ランダムノイズ（統一）、ランダムノイズ（異なる）、FGSM\n"
     ]
    },
    {
     "data": {
      "image/png": "[encoded data removed]",
      "text/plain": [
       "<Figure size 1440x1440 with 4 Axes>"
      ]
     },
     "metadata": {
      "needs_background": "light"
     },
     "output_type": "display_data"
    }
   ],
   "source": [
    "print(\"左から順に無加工、ランダムノイズ（統一）、ランダムノイズ（異なる）、FGSM\")\n",
    "fig = plt.figure(figsize=(20, 20))\n",
    "fig.subplots_adjust(wspace=0.4, hspace=0.1)\n",
    "\n",
    "for i, x in enumerate([x_test[0], noised_test[0], noised1_test[0], fgsm_test[0]]):\n",
    "    x = x.reshape(1, 1, 28, 28)\n",
    "    ax = fig.add_subplot(1, 4, i+1)\n",
    "    ax.imshow(x.reshape(28,28), 'gray')\n",
    "    pre = network.predict(x)\n",
    "    pre_label = np.argmax(pre)\n",
    "    pre_score = round(max(softmax(pre[0])), 2)\n",
    "    ax.set_title(f\"{pre_label} : {pre_score}\")"
   ]
  },
  {
   "cell_type": "code",
   "execution_count": null,
   "metadata": {},
   "outputs": [],
   "source": []
  }
 ],
 "metadata": {
  "kernelspec": {
   "display_name": "Python 3",
   "language": "python",
   "name": "python3"
  },
  "language_info": {
   "codemirror_mode": {
    "name": "ipython",
    "version": 3
   },
   "file_extension": ".py",
   "mimetype": "text/x-python",
   "name": "python",
   "nbconvert_exporter": "python",
   "pygments_lexer": "ipython3",
   "version": "3.7.3"
  }
 },
 "nbformat": 4,
 "nbformat_minor": 2
}
